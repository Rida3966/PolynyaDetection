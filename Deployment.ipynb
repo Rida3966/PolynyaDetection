{
  "nbformat": 4,
  "nbformat_minor": 0,
  "metadata": {
    "colab": {
      "provenance": [],
      "collapsed_sections": []
    },
    "kernelspec": {
      "name": "python3",
      "display_name": "Python 3"
    },
    "language_info": {
      "name": "python"
    }
  },
  "cells": [
    {
      "cell_type": "code",
      "execution_count": null,
      "metadata": {
        "id": "yxKEQ5QWNJky"
      },
      "outputs": [],
      "source": [
        "# Required Packages\n",
        "\n",
        "%tensorflow_version 2.1.0\n",
        "!pip install gradio"
      ]
    },
    {
      "cell_type": "code",
      "source": [
        "# Required Libraries\n",
        "\n",
        "import numpy as np\n",
        "import cv2\n",
        "import imutils\n",
        "import tensorflow as tf\n",
        "from tensorflow import keras\n",
        "import gradio as gr\n",
        "from tensorflow.keras.models import load_model"
      ],
      "metadata": {
        "id": "TOXddCw6Nhhl"
      },
      "execution_count": 2,
      "outputs": []
    },
    {
      "cell_type": "code",
      "source": [
        "# Loading Model \n",
        "\n",
        "model = load_model('/content/drive/MyDrive/Colab Notebooks/saved_models/multires_original.h5', compile=False)\n"
      ],
      "metadata": {
        "id": "NwMvTnrwuNjW"
      },
      "execution_count": 19,
      "outputs": []
    },
    {
      "cell_type": "code",
      "source": [
        "def segmentation(inp):\n",
        "                    \n",
        "    inp = cv2.resize(inp, (256, 256))               # Resize\n",
        "    inp = (inp.astype('float32')) / 255.            # Normalize\n",
        "    test_input = inp\n",
        "\n",
        "    # Predictions\n",
        "    prediction_on_test = np.expand_dims(test_input, 0)            \n",
        "    prediction_on_test = model.predict(prediction_on_test)     # Prediction\n",
        "    prediction_on_test = prediction_on_test > 0.5               # Thresholding\n",
        "    predicted_img = prediction_on_test[0,:,:,0]   \n",
        "\n",
        "     # Extracting Contours\n",
        "    predicted = predicted_img.astype(np.uint8)\n",
        "    cnts = cv2.findContours(image=predicted, mode=cv2.RETR_TREE, method=cv2.CHAIN_APPROX_NONE)\n",
        "    contours = imutils.grab_contours(cnts)\n",
        "    contoured = test_input.copy()\n",
        "    contoured = (contoured * 255).astype(np.uint8)\n",
        "    cv2.drawContours(image=contoured, contours=contours, contourIdx=-1, color=(255, 0, 0), thickness=1, lineType=cv2.LINE_AA)\n",
        "\n",
        "     # Circumference of detected Mask\n",
        "    if contours :\n",
        "        a = \"Polynya Detected\"\n",
        "        for i in range(len(contours)):\n",
        "            circum = cv2.arcLength(contours[i], True)\n",
        "            circum = round(circum,2)\n",
        "            b = str(circum) + '\\t' + \"px\"\n",
        "    else:\n",
        "        a = \"No Polynya Detected\"\n",
        "        b = \"0.0 px\"\n",
        "\n",
        "    return(contoured, a, b)\n"
      ],
      "metadata": {
        "id": "ciMs-pHkt4oD"
      },
      "execution_count": 20,
      "outputs": []
    },
    {
      "cell_type": "code",
      "source": [
        "image = gr.Image(label = 'Input Image')\n",
        "out1 = gr.Image(label = 'Result')\n",
        "out2 = gr.Textbox(label = 'Label')\n",
        "out3 = gr.Textbox(label = 'Circumference in Pixel Unit')\n",
        "\n",
        "interface = gr.Interface(fn = segmentation, inputs = image, outputs = [out1, out2, out3], \n",
        "                         title= 'Polynya Detection', \n",
        "                         description= 'Let the system detect if there is a Polynya in your image.')\n"
      ],
      "metadata": {
        "id": "iFXK2KEHt4t4"
      },
      "execution_count": 21,
      "outputs": []
    },
    {
      "cell_type": "code",
      "source": [
        "interface.launch()"
      ],
      "metadata": {
        "colab": {
          "base_uri": "https://localhost:8080/",
          "height": 643
        },
        "id": "r2rmPiC4X_11",
        "outputId": "2153fe21-305c-46db-ad47-011bf8b5628e"
      },
      "execution_count": 22,
      "outputs": [
        {
          "output_type": "stream",
          "name": "stdout",
          "text": [
            "Colab notebook detected. To show errors in colab notebook, set `debug=True` in `launch()`\n",
            "Running on public URL: https://19854.gradio.app\n",
            "\n",
            "This share link expires in 72 hours. For free permanent hosting, check out Spaces: https://huggingface.co/spaces\n"
          ]
        },
        {
          "output_type": "display_data",
          "data": {
            "text/plain": [
              "<IPython.core.display.HTML object>"
            ],
            "text/html": [
              "<div><iframe src=\"https://19854.gradio.app\" width=\"900\" height=\"500\" allow=\"autoplay; camera; microphone;\" frameborder=\"0\" allowfullscreen></iframe></div>"
            ]
          },
          "metadata": {}
        },
        {
          "output_type": "execute_result",
          "data": {
            "text/plain": [
              "(<gradio.routes.App at 0x7fc0d2da3d50>,\n",
              " 'http://127.0.0.1:7864/',\n",
              " 'https://19854.gradio.app')"
            ]
          },
          "metadata": {},
          "execution_count": 22
        }
      ]
    }
  ]
}